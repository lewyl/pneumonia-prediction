{
 "cells": [
  {
   "cell_type": "code",
   "execution_count": 1,
   "id": "ba901bea",
   "metadata": {
    "_cell_guid": "b1076dfc-b9ad-4769-8c92-a6c4dae69d19",
    "_uuid": "8f2839f25d086af736a60e9eeb907d3b93b6e0e5",
    "execution": {
     "iopub.execute_input": "2022-05-14T14:24:43.747776Z",
     "iopub.status.busy": "2022-05-14T14:24:43.746586Z",
     "iopub.status.idle": "2022-05-14T14:24:43.755032Z",
     "shell.execute_reply": "2022-05-14T14:24:43.754053Z",
     "shell.execute_reply.started": "2022-02-24T08:48:03.348136Z"
    },
    "papermill": {
     "duration": 0.045737,
     "end_time": "2022-05-14T14:24:43.755248",
     "exception": false,
     "start_time": "2022-05-14T14:24:43.709511",
     "status": "completed"
    },
    "tags": []
   },
   "outputs": [
    {
     "name": "stdout",
     "output_type": "stream",
     "text": [
      "/kaggle/input/msbd5001-spring-2022/sample_submission.csv\n",
      "/kaggle/input/msbd5001-spring-2022/train.csv\n",
      "/kaggle/input/msbd5001-spring-2022/test.csv\n"
     ]
    }
   ],
   "source": [
    "# This Python 3 environment comes with many helpful analytics libraries installed\n",
    "# It is defined by the kaggle/python Docker image: https://github.com/kaggle/docker-python\n",
    "# For example, here's several helpful packages to load\n",
    "\n",
    "import numpy as np # linear algebra\n",
    "import pandas as pd # data processing, CSV file I/O (e.g. pd.read_csv)\n",
    "\n",
    "# Input data files are available in the read-only \"../input/\" directory\n",
    "# For example, running this (by clicking run or pressing Shift+Enter) will list all files under the input directory\n",
    "\n",
    "import os\n",
    "for dirname, _, filenames in os.walk('/kaggle/input'):\n",
    "    for filename in filenames:\n",
    "        print(os.path.join(dirname, filename))\n",
    "\n",
    "# You can write up to 20GB to the current directory (/kaggle/working/) that gets preserved as output when you create a version using \"Save & Run All\" \n",
    "# You can also write temporary files to /kaggle/temp/, but they won't be saved outside of the current session"
   ]
  },
  {
   "cell_type": "code",
   "execution_count": 2,
   "id": "9255e64d",
   "metadata": {
    "execution": {
     "iopub.execute_input": "2022-05-14T14:24:43.808409Z",
     "iopub.status.busy": "2022-05-14T14:24:43.807651Z",
     "iopub.status.idle": "2022-05-14T14:24:43.879867Z",
     "shell.execute_reply": "2022-05-14T14:24:43.880683Z",
     "shell.execute_reply.started": "2022-02-24T08:48:03.367117Z"
    },
    "papermill": {
     "duration": 0.101568,
     "end_time": "2022-05-14T14:24:43.880906",
     "exception": false,
     "start_time": "2022-05-14T14:24:43.779338",
     "status": "completed"
    },
    "tags": []
   },
   "outputs": [
    {
     "data": {
      "text/html": [
       "<div>\n",
       "<style scoped>\n",
       "    .dataframe tbody tr th:only-of-type {\n",
       "        vertical-align: middle;\n",
       "    }\n",
       "\n",
       "    .dataframe tbody tr th {\n",
       "        vertical-align: top;\n",
       "    }\n",
       "\n",
       "    .dataframe thead th {\n",
       "        text-align: right;\n",
       "    }\n",
       "</style>\n",
       "<table border=\"1\" class=\"dataframe\">\n",
       "  <thead>\n",
       "    <tr style=\"text-align: right;\">\n",
       "      <th></th>\n",
       "      <th>MO HLADR+ MFI (cells/ul)</th>\n",
       "      <th>Neu CD64+MFI (cells/ul)</th>\n",
       "      <th>CD3+T (cells/ul)</th>\n",
       "      <th>CD8+T (cells/ul)</th>\n",
       "      <th>CD4+T (cells/ul)</th>\n",
       "      <th>NK (cells/ul)</th>\n",
       "      <th>CD19+ (cells/ul)</th>\n",
       "      <th>CD45+ (cells/ul)</th>\n",
       "      <th>Age</th>\n",
       "      <th>Sex 0M1F</th>\n",
       "      <th>Mono CD64+MFI (cells/ul)</th>\n",
       "      <th>label</th>\n",
       "    </tr>\n",
       "    <tr>\n",
       "      <th>id</th>\n",
       "      <th></th>\n",
       "      <th></th>\n",
       "      <th></th>\n",
       "      <th></th>\n",
       "      <th></th>\n",
       "      <th></th>\n",
       "      <th></th>\n",
       "      <th></th>\n",
       "      <th></th>\n",
       "      <th></th>\n",
       "      <th></th>\n",
       "      <th></th>\n",
       "    </tr>\n",
       "  </thead>\n",
       "  <tbody>\n",
       "    <tr>\n",
       "      <th>0</th>\n",
       "      <td>3556.0</td>\n",
       "      <td>2489.0</td>\n",
       "      <td>265.19</td>\n",
       "      <td>77.53</td>\n",
       "      <td>176.55</td>\n",
       "      <td>0.00</td>\n",
       "      <td>4.20</td>\n",
       "      <td>307.91</td>\n",
       "      <td>52</td>\n",
       "      <td>0</td>\n",
       "      <td>7515.0</td>\n",
       "      <td>1</td>\n",
       "    </tr>\n",
       "    <tr>\n",
       "      <th>1</th>\n",
       "      <td>1906.0</td>\n",
       "      <td>134.0</td>\n",
       "      <td>1442.61</td>\n",
       "      <td>551.90</td>\n",
       "      <td>876.07</td>\n",
       "      <td>112.10</td>\n",
       "      <td>168.15</td>\n",
       "      <td>1735.48</td>\n",
       "      <td>20</td>\n",
       "      <td>1</td>\n",
       "      <td>1756.0</td>\n",
       "      <td>0</td>\n",
       "    </tr>\n",
       "    <tr>\n",
       "      <th>2</th>\n",
       "      <td>1586.0</td>\n",
       "      <td>71.0</td>\n",
       "      <td>1332.74</td>\n",
       "      <td>684.20</td>\n",
       "      <td>655.26</td>\n",
       "      <td>244.95</td>\n",
       "      <td>216.52</td>\n",
       "      <td>1820.04</td>\n",
       "      <td>28</td>\n",
       "      <td>1</td>\n",
       "      <td>1311.0</td>\n",
       "      <td>0</td>\n",
       "    </tr>\n",
       "    <tr>\n",
       "      <th>3</th>\n",
       "      <td>683.0</td>\n",
       "      <td>94.0</td>\n",
       "      <td>419.23</td>\n",
       "      <td>255.80</td>\n",
       "      <td>162.17</td>\n",
       "      <td>72.05</td>\n",
       "      <td>44.68</td>\n",
       "      <td>538.22</td>\n",
       "      <td>55</td>\n",
       "      <td>1</td>\n",
       "      <td>1443.0</td>\n",
       "      <td>0</td>\n",
       "    </tr>\n",
       "    <tr>\n",
       "      <th>4</th>\n",
       "      <td>1032.0</td>\n",
       "      <td>71.0</td>\n",
       "      <td>1102.72</td>\n",
       "      <td>480.27</td>\n",
       "      <td>625.30</td>\n",
       "      <td>188.78</td>\n",
       "      <td>130.77</td>\n",
       "      <td>1427.97</td>\n",
       "      <td>28</td>\n",
       "      <td>1</td>\n",
       "      <td>1542.0</td>\n",
       "      <td>0</td>\n",
       "    </tr>\n",
       "    <tr>\n",
       "      <th>...</th>\n",
       "      <td>...</td>\n",
       "      <td>...</td>\n",
       "      <td>...</td>\n",
       "      <td>...</td>\n",
       "      <td>...</td>\n",
       "      <td>...</td>\n",
       "      <td>...</td>\n",
       "      <td>...</td>\n",
       "      <td>...</td>\n",
       "      <td>...</td>\n",
       "      <td>...</td>\n",
       "      <td>...</td>\n",
       "    </tr>\n",
       "    <tr>\n",
       "      <th>82</th>\n",
       "      <td>626.0</td>\n",
       "      <td>68.0</td>\n",
       "      <td>1771.57</td>\n",
       "      <td>666.99</td>\n",
       "      <td>1117.48</td>\n",
       "      <td>360.21</td>\n",
       "      <td>118.84</td>\n",
       "      <td>2306.82</td>\n",
       "      <td>42</td>\n",
       "      <td>1</td>\n",
       "      <td>1521.0</td>\n",
       "      <td>0</td>\n",
       "    </tr>\n",
       "    <tr>\n",
       "      <th>83</th>\n",
       "      <td>1237.0</td>\n",
       "      <td>71.0</td>\n",
       "      <td>1348.53</td>\n",
       "      <td>428.09</td>\n",
       "      <td>924.69</td>\n",
       "      <td>120.02</td>\n",
       "      <td>48.67</td>\n",
       "      <td>1524.78</td>\n",
       "      <td>56</td>\n",
       "      <td>0</td>\n",
       "      <td>1345.0</td>\n",
       "      <td>0</td>\n",
       "    </tr>\n",
       "    <tr>\n",
       "      <th>84</th>\n",
       "      <td>634.0</td>\n",
       "      <td>1002.0</td>\n",
       "      <td>1300.00</td>\n",
       "      <td>558.00</td>\n",
       "      <td>724.00</td>\n",
       "      <td>67.00</td>\n",
       "      <td>105.00</td>\n",
       "      <td>1484.26</td>\n",
       "      <td>34</td>\n",
       "      <td>0</td>\n",
       "      <td>2926.0</td>\n",
       "      <td>1</td>\n",
       "    </tr>\n",
       "    <tr>\n",
       "      <th>85</th>\n",
       "      <td>112.0</td>\n",
       "      <td>884.0</td>\n",
       "      <td>942.83</td>\n",
       "      <td>378.49</td>\n",
       "      <td>567.06</td>\n",
       "      <td>116.77</td>\n",
       "      <td>31.81</td>\n",
       "      <td>1104.59</td>\n",
       "      <td>33</td>\n",
       "      <td>1</td>\n",
       "      <td>2352.0</td>\n",
       "      <td>1</td>\n",
       "    </tr>\n",
       "    <tr>\n",
       "      <th>86</th>\n",
       "      <td>195.0</td>\n",
       "      <td>213.0</td>\n",
       "      <td>724.00</td>\n",
       "      <td>364.00</td>\n",
       "      <td>361.00</td>\n",
       "      <td>18.00</td>\n",
       "      <td>155.00</td>\n",
       "      <td>897.00</td>\n",
       "      <td>19</td>\n",
       "      <td>1</td>\n",
       "      <td>2445.0</td>\n",
       "      <td>1</td>\n",
       "    </tr>\n",
       "  </tbody>\n",
       "</table>\n",
       "<p>87 rows × 12 columns</p>\n",
       "</div>"
      ],
      "text/plain": [
       "    MO HLADR+ MFI (cells/ul)  Neu CD64+MFI (cells/ul)  CD3+T (cells/ul)  \\\n",
       "id                                                                        \n",
       "0                     3556.0                   2489.0            265.19   \n",
       "1                     1906.0                    134.0           1442.61   \n",
       "2                     1586.0                     71.0           1332.74   \n",
       "3                      683.0                     94.0            419.23   \n",
       "4                     1032.0                     71.0           1102.72   \n",
       "..                       ...                      ...               ...   \n",
       "82                     626.0                     68.0           1771.57   \n",
       "83                    1237.0                     71.0           1348.53   \n",
       "84                     634.0                   1002.0           1300.00   \n",
       "85                     112.0                    884.0            942.83   \n",
       "86                     195.0                    213.0            724.00   \n",
       "\n",
       "    CD8+T (cells/ul)  CD4+T (cells/ul)  NK (cells/ul)  CD19+ (cells/ul)  \\\n",
       "id                                                                        \n",
       "0              77.53            176.55           0.00              4.20   \n",
       "1             551.90            876.07         112.10            168.15   \n",
       "2             684.20            655.26         244.95            216.52   \n",
       "3             255.80            162.17          72.05             44.68   \n",
       "4             480.27            625.30         188.78            130.77   \n",
       "..               ...               ...            ...               ...   \n",
       "82            666.99           1117.48         360.21            118.84   \n",
       "83            428.09            924.69         120.02             48.67   \n",
       "84            558.00            724.00          67.00            105.00   \n",
       "85            378.49            567.06         116.77             31.81   \n",
       "86            364.00            361.00          18.00            155.00   \n",
       "\n",
       "    CD45+ (cells/ul)  Age  Sex 0M1F  Mono CD64+MFI (cells/ul)  label  \n",
       "id                                                                    \n",
       "0             307.91   52         0                    7515.0      1  \n",
       "1            1735.48   20         1                    1756.0      0  \n",
       "2            1820.04   28         1                    1311.0      0  \n",
       "3             538.22   55         1                    1443.0      0  \n",
       "4            1427.97   28         1                    1542.0      0  \n",
       "..               ...  ...       ...                       ...    ...  \n",
       "82           2306.82   42         1                    1521.0      0  \n",
       "83           1524.78   56         0                    1345.0      0  \n",
       "84           1484.26   34         0                    2926.0      1  \n",
       "85           1104.59   33         1                    2352.0      1  \n",
       "86            897.00   19         1                    2445.0      1  \n",
       "\n",
       "[87 rows x 12 columns]"
      ]
     },
     "execution_count": 2,
     "metadata": {},
     "output_type": "execute_result"
    }
   ],
   "source": [
    "## Data\n",
    "\n",
    "train = pd.read_csv(\"/kaggle/input/msbd5001-spring-2022/train.csv\", index_col=0)\n",
    "test = pd.read_csv(\"/kaggle/input/msbd5001-spring-2022/test.csv\", index_col=0)\n",
    "\n",
    "train"
   ]
  },
  {
   "cell_type": "code",
   "execution_count": null,
   "id": "5c1c0c53",
   "metadata": {
    "papermill": {
     "duration": 0.023883,
     "end_time": "2022-05-14T14:24:43.930654",
     "exception": false,
     "start_time": "2022-05-14T14:24:43.906771",
     "status": "completed"
    },
    "tags": []
   },
   "outputs": [],
   "source": []
  },
  {
   "cell_type": "code",
   "execution_count": 3,
   "id": "5a2416d9",
   "metadata": {
    "execution": {
     "iopub.execute_input": "2022-05-14T14:24:43.990132Z",
     "iopub.status.busy": "2022-05-14T14:24:43.989110Z",
     "iopub.status.idle": "2022-05-14T14:24:43.993046Z",
     "shell.execute_reply": "2022-05-14T14:24:43.992492Z",
     "shell.execute_reply.started": "2022-02-24T08:48:03.414386Z"
    },
    "papermill": {
     "duration": 0.037437,
     "end_time": "2022-05-14T14:24:43.993212",
     "exception": false,
     "start_time": "2022-05-14T14:24:43.955775",
     "status": "completed"
    },
    "tags": []
   },
   "outputs": [],
   "source": [
    "## Data Preprocessing\n",
    "# Drop the single object with missing values\n",
    "train.dropna(inplace=True)"
   ]
  },
  {
   "cell_type": "code",
   "execution_count": 4,
   "id": "6c360eeb",
   "metadata": {
    "execution": {
     "iopub.execute_input": "2022-05-14T14:24:44.046870Z",
     "iopub.status.busy": "2022-05-14T14:24:44.045837Z",
     "iopub.status.idle": "2022-05-14T14:24:44.053677Z",
     "shell.execute_reply": "2022-05-14T14:24:44.054248Z",
     "shell.execute_reply.started": "2022-02-24T08:48:03.422707Z"
    },
    "papermill": {
     "duration": 0.03723,
     "end_time": "2022-05-14T14:24:44.054433",
     "exception": false,
     "start_time": "2022-05-14T14:24:44.017203",
     "status": "completed"
    },
    "tags": []
   },
   "outputs": [],
   "source": [
    "X = train.drop(\"label\", axis=1)\n",
    "y = train[\"label\"]"
   ]
  },
  {
   "cell_type": "code",
   "execution_count": null,
   "id": "8116af11",
   "metadata": {
    "papermill": {
     "duration": 0.026149,
     "end_time": "2022-05-14T14:24:44.104475",
     "exception": false,
     "start_time": "2022-05-14T14:24:44.078326",
     "status": "completed"
    },
    "tags": []
   },
   "outputs": [],
   "source": []
  },
  {
   "cell_type": "code",
   "execution_count": null,
   "id": "79eef472",
   "metadata": {
    "papermill": {
     "duration": 0.024962,
     "end_time": "2022-05-14T14:24:44.153794",
     "exception": false,
     "start_time": "2022-05-14T14:24:44.128832",
     "status": "completed"
    },
    "tags": []
   },
   "outputs": [],
   "source": []
  },
  {
   "cell_type": "code",
   "execution_count": 5,
   "id": "05dff3b8",
   "metadata": {
    "execution": {
     "iopub.execute_input": "2022-05-14T14:24:44.209984Z",
     "iopub.status.busy": "2022-05-14T14:24:44.206114Z",
     "iopub.status.idle": "2022-05-14T14:24:45.481786Z",
     "shell.execute_reply": "2022-05-14T14:24:45.481078Z",
     "shell.execute_reply.started": "2022-02-24T08:48:03.436523Z"
    },
    "papermill": {
     "duration": 1.303354,
     "end_time": "2022-05-14T14:24:45.481944",
     "exception": false,
     "start_time": "2022-05-14T14:24:44.178590",
     "status": "completed"
    },
    "tags": []
   },
   "outputs": [],
   "source": [
    "## K-fold Cross Validation\n",
    "\n",
    "from sklearn.model_selection import KFold\n",
    "\n",
    "k = 5\n",
    "\n",
    "kf = KFold(n_splits=k, shuffle=True, random_state=5001)\n",
    "\n",
    "cv_folds = []\n",
    "\n",
    "for train_index, test_index in kf.split(X):\n",
    "    #print(\"TRAIN:\", train_index, \"TEST:\", test_index)\n",
    "    #X_train, X_test = X.iloc[train_index], X.iloc[test_index]\n",
    "    #y_train, y_test = y.iloc[train_index], y.iloc[test_index]\n",
    "    cv_folds.append([train_index, test_index])"
   ]
  },
  {
   "cell_type": "code",
   "execution_count": null,
   "id": "5f39ee13",
   "metadata": {
    "papermill": {
     "duration": 0.023604,
     "end_time": "2022-05-14T14:24:45.530205",
     "exception": false,
     "start_time": "2022-05-14T14:24:45.506601",
     "status": "completed"
    },
    "tags": []
   },
   "outputs": [],
   "source": []
  },
  {
   "cell_type": "code",
   "execution_count": 6,
   "id": "bb2e1190",
   "metadata": {
    "execution": {
     "iopub.execute_input": "2022-05-14T14:24:45.597609Z",
     "iopub.status.busy": "2022-05-14T14:24:45.596361Z",
     "iopub.status.idle": "2022-05-14T14:24:47.989049Z",
     "shell.execute_reply": "2022-05-14T14:24:47.990308Z",
     "shell.execute_reply.started": "2022-02-24T08:48:03.945505Z"
    },
    "papermill": {
     "duration": 2.434805,
     "end_time": "2022-05-14T14:24:47.990541",
     "exception": false,
     "start_time": "2022-05-14T14:24:45.555736",
     "status": "completed"
    },
    "tags": []
   },
   "outputs": [
    {
     "name": "stdout",
     "output_type": "stream",
     "text": [
      "CV accuracy: 0.8705882352941178\n"
     ]
    }
   ],
   "source": [
    "## XGBoost\n",
    "\n",
    "# Preprocessing pipeline\n",
    "from sklearn.impute import SimpleImputer\n",
    "from sklearn.pipeline import Pipeline\n",
    "from sklearn.preprocessing import OneHotEncoder\n",
    "\n",
    "categorical_pipeline = Pipeline(\n",
    "    steps=[\n",
    "        (\"impute\", SimpleImputer(strategy=\"most_frequent\")),\n",
    "        (\"oh-encode\", OneHotEncoder(handle_unknown=\"ignore\", sparse=False)),\n",
    "    ]\n",
    ")\n",
    "\n",
    "from sklearn.preprocessing import StandardScaler\n",
    "\n",
    "numeric_pipeline = Pipeline(\n",
    "    steps=[(\"impute\", SimpleImputer(strategy=\"mean\")), \n",
    "           (\"scale\", StandardScaler())]\n",
    ")\n",
    "\n",
    "cat_cols = [\"Sex 0M1F\"]\n",
    "num_cols = [col for col in X.columns if col not in cat_cols]\n",
    "\n",
    "from sklearn.compose import ColumnTransformer\n",
    "\n",
    "full_processor = ColumnTransformer(\n",
    "    transformers=[\n",
    "        (\"numeric\", numeric_pipeline, num_cols),\n",
    "        (\"categorical\", categorical_pipeline, cat_cols),\n",
    "    ]\n",
    ")\n",
    "\n",
    "# Apply preprocessing\n",
    "X_processed = full_processor.fit_transform(X)\n",
    "\n",
    "# XGBoost model\n",
    "import xgboost as xgb\n",
    "\n",
    "params = {'objective': 'binary:logistic',\n",
    "    'colsample_bytree': 0.5,\n",
    "     'gamma': 1,\n",
    "     'learning_rate': 0.1,\n",
    "     'max_depth': 3,\n",
    "     'reg_lambda': 10,\n",
    "     'scale_pos_weight': 1,\n",
    "     'subsample': 0.8}\n",
    "\n",
    "from sklearn.metrics import accuracy_score\n",
    "cv_acc = 0\n",
    "cv_probs_xgb = []\n",
    "for fold in cv_folds:\n",
    "    train_index, test_index = fold[0], fold[1]\n",
    "    \n",
    "    X_train, X_test = X_processed[train_index], X_processed[test_index]\n",
    "    y_train, y_test = y.iloc[train_index], y.iloc[test_index]\n",
    "    \n",
    "    xgb_cl = xgb.XGBClassifier(use_label_encoder=False, verbosity=0, random_state=5001, **params)\n",
    "    \n",
    "    xgb_cl.fit(X_train, y_train)\n",
    "    y_pred = xgb_cl.predict(X_test)\n",
    "    y_pred_proba = xgb_cl.predict_proba(X_test)\n",
    "    cv_probs_xgb.append(y_pred_proba[:,1])\n",
    "    cv_acc += accuracy_score(y_test, y_pred)\n",
    "    \n",
    "#cv_probs = np.concatenate([arr for arr in cv_probs])    \n",
    "cv_acc = cv_acc/k\n",
    "print(\"CV accuracy:\", cv_acc)    "
   ]
  },
  {
   "cell_type": "code",
   "execution_count": null,
   "id": "bd0d9c22",
   "metadata": {
    "papermill": {
     "duration": 0.025106,
     "end_time": "2022-05-14T14:24:48.043889",
     "exception": false,
     "start_time": "2022-05-14T14:24:48.018783",
     "status": "completed"
    },
    "tags": []
   },
   "outputs": [],
   "source": []
  },
  {
   "cell_type": "code",
   "execution_count": 7,
   "id": "43bd6143",
   "metadata": {
    "execution": {
     "iopub.execute_input": "2022-05-14T14:24:48.097769Z",
     "iopub.status.busy": "2022-05-14T14:24:48.097047Z",
     "iopub.status.idle": "2022-05-14T14:24:48.100374Z",
     "shell.execute_reply": "2022-05-14T14:24:48.100905Z",
     "shell.execute_reply.started": "2022-02-24T08:48:05.948657Z"
    },
    "papermill": {
     "duration": 0.032049,
     "end_time": "2022-05-14T14:24:48.101078",
     "exception": false,
     "start_time": "2022-05-14T14:24:48.069029",
     "status": "completed"
    },
    "tags": []
   },
   "outputs": [],
   "source": [
    "# y_pred_proba"
   ]
  },
  {
   "cell_type": "code",
   "execution_count": 8,
   "id": "c820fd35",
   "metadata": {
    "execution": {
     "iopub.execute_input": "2022-05-14T14:24:48.153990Z",
     "iopub.status.busy": "2022-05-14T14:24:48.153272Z",
     "iopub.status.idle": "2022-05-14T14:24:48.156577Z",
     "shell.execute_reply": "2022-05-14T14:24:48.157316Z",
     "shell.execute_reply.started": "2022-02-24T08:48:05.954365Z"
    },
    "papermill": {
     "duration": 0.032217,
     "end_time": "2022-05-14T14:24:48.157547",
     "exception": false,
     "start_time": "2022-05-14T14:24:48.125330",
     "status": "completed"
    },
    "tags": []
   },
   "outputs": [],
   "source": [
    "# y_pred_proba[:,1]"
   ]
  },
  {
   "cell_type": "code",
   "execution_count": 9,
   "id": "926d758f",
   "metadata": {
    "execution": {
     "iopub.execute_input": "2022-05-14T14:24:48.210961Z",
     "iopub.status.busy": "2022-05-14T14:24:48.210288Z",
     "iopub.status.idle": "2022-05-14T14:24:49.308776Z",
     "shell.execute_reply": "2022-05-14T14:24:49.308125Z",
     "shell.execute_reply.started": "2022-02-24T08:48:05.967619Z"
    },
    "papermill": {
     "duration": 1.12668,
     "end_time": "2022-05-14T14:24:49.308925",
     "exception": false,
     "start_time": "2022-05-14T14:24:48.182245",
     "status": "completed"
    },
    "tags": []
   },
   "outputs": [
    {
     "name": "stdout",
     "output_type": "stream",
     "text": [
      "CV accuracy: 0.9058823529411765\n"
     ]
    }
   ],
   "source": [
    "## Random Forest\n",
    "\n",
    "from sklearn.ensemble import RandomForestClassifier\n",
    "from sklearn.metrics import accuracy_score\n",
    "\n",
    "cv_acc = 0\n",
    "cv_probs_rf = []\n",
    "for fold in cv_folds:\n",
    "    train_index, test_index = fold[0], fold[1]\n",
    "    \n",
    "    X_train, X_test = X.iloc[train_index], X.iloc[test_index]\n",
    "    y_train, y_test = y.iloc[train_index], y.iloc[test_index]\n",
    "    \n",
    "    clf = RandomForestClassifier(max_depth=3, random_state=5001)\n",
    "    clf.fit(X_train, y_train)\n",
    "\n",
    "    y_pred = clf.predict(X_test)\n",
    "    y_pred_proba = clf.predict_proba(X_test)\n",
    "    cv_probs_rf.append(y_pred_proba[:,1])\n",
    "    cv_acc += accuracy_score(y_test, y_pred)\n",
    "    \n",
    "cv_acc = cv_acc/k\n",
    "print(\"CV accuracy:\", cv_acc)"
   ]
  },
  {
   "cell_type": "code",
   "execution_count": 10,
   "id": "3b8e7092",
   "metadata": {
    "execution": {
     "iopub.execute_input": "2022-05-14T14:24:49.372016Z",
     "iopub.status.busy": "2022-05-14T14:24:49.371265Z",
     "iopub.status.idle": "2022-05-14T14:24:50.052363Z",
     "shell.execute_reply": "2022-05-14T14:24:50.052919Z",
     "shell.execute_reply.started": "2022-02-24T08:48:07.002806Z"
    },
    "papermill": {
     "duration": 0.717963,
     "end_time": "2022-05-14T14:24:50.053095",
     "exception": false,
     "start_time": "2022-05-14T14:24:49.335132",
     "status": "completed"
    },
    "tags": []
   },
   "outputs": [
    {
     "name": "stdout",
     "output_type": "stream",
     "text": [
      "CV accuracy: 0.8823529411764707\n"
     ]
    }
   ],
   "source": [
    "## CatBoost\n",
    "\n",
    "from catboost import CatBoostClassifier\n",
    "from sklearn.metrics import accuracy_score\n",
    "\n",
    "cat_features = [9] # Gender\n",
    "\n",
    "cv_acc = 0\n",
    "cv_probs_cb = []\n",
    "for fold in cv_folds:\n",
    "    train_index, test_index = fold[0], fold[1]\n",
    "    \n",
    "    X_train, X_test = X.iloc[train_index], X.iloc[test_index]\n",
    "    y_train, y_test = y.iloc[train_index], y.iloc[test_index]\n",
    "    \n",
    "    cb_clf = CatBoostClassifier(iterations=15,\n",
    "                                learning_rate=0.25,\n",
    "                                depth=5,\n",
    "                                verbose=0,\n",
    "                                random_seed=5001)\n",
    "    \n",
    "    cb_clf.fit(X_train, y_train, cat_features)\n",
    "    y_pred = cb_clf.predict(X_test)\n",
    "    y_pred_proba = cb_clf.predict_proba(X_test)\n",
    "    cv_probs_cb.append(y_pred_proba[:,1])\n",
    "    cv_acc += accuracy_score(y_test, y_pred)\n",
    "    \n",
    "cv_acc = cv_acc/k\n",
    "print(\"CV accuracy:\", cv_acc) "
   ]
  },
  {
   "cell_type": "code",
   "execution_count": 11,
   "id": "db5b6266",
   "metadata": {
    "execution": {
     "iopub.execute_input": "2022-05-14T14:24:50.109168Z",
     "iopub.status.busy": "2022-05-14T14:24:50.108091Z",
     "iopub.status.idle": "2022-05-14T14:24:50.119684Z",
     "shell.execute_reply": "2022-05-14T14:24:50.119057Z",
     "shell.execute_reply.started": "2022-02-24T08:48:07.340448Z"
    },
    "papermill": {
     "duration": 0.040853,
     "end_time": "2022-05-14T14:24:50.119828",
     "exception": false,
     "start_time": "2022-05-14T14:24:50.078975",
     "status": "completed"
    },
    "tags": []
   },
   "outputs": [
    {
     "name": "stdout",
     "output_type": "stream",
     "text": [
      "CV accuracy: 0.8823529411764707\n"
     ]
    }
   ],
   "source": [
    "cv_acc = 0\n",
    "for fold_num in range(len(cv_folds)):\n",
    "    test_index = cv_folds[fold_num][1]\n",
    "    y_train, y_test = y.iloc[train_index], y.iloc[test_index]\n",
    "    \n",
    "    y_pred_avg = (cv_probs_xgb[fold_num]+cv_probs_rf[fold_num]+cv_probs_cb[fold_num])/3\n",
    "    cv_acc += accuracy_score(y_test, y_pred_avg>=0.50)\n",
    "    \n",
    "cv_acc = cv_acc/k\n",
    "print(\"CV accuracy:\", cv_acc)\n",
    "    "
   ]
  },
  {
   "cell_type": "code",
   "execution_count": null,
   "id": "b3f13ae1",
   "metadata": {
    "papermill": {
     "duration": 0.027523,
     "end_time": "2022-05-14T14:24:50.172745",
     "exception": false,
     "start_time": "2022-05-14T14:24:50.145222",
     "status": "completed"
    },
    "tags": []
   },
   "outputs": [],
   "source": []
  },
  {
   "cell_type": "code",
   "execution_count": 12,
   "id": "eadc10d0",
   "metadata": {
    "execution": {
     "iopub.execute_input": "2022-05-14T14:24:50.245847Z",
     "iopub.status.busy": "2022-05-14T14:24:50.235010Z",
     "iopub.status.idle": "2022-05-14T14:24:50.467467Z",
     "shell.execute_reply": "2022-05-14T14:24:50.466727Z",
     "shell.execute_reply.started": "2022-02-24T08:48:07.355086Z"
    },
    "papermill": {
     "duration": 0.268038,
     "end_time": "2022-05-14T14:24:50.467656",
     "exception": false,
     "start_time": "2022-05-14T14:24:50.199618",
     "status": "completed"
    },
    "tags": []
   },
   "outputs": [
    {
     "data": {
      "text/html": [
       "<div>\n",
       "<style scoped>\n",
       "    .dataframe tbody tr th:only-of-type {\n",
       "        vertical-align: middle;\n",
       "    }\n",
       "\n",
       "    .dataframe tbody tr th {\n",
       "        vertical-align: top;\n",
       "    }\n",
       "\n",
       "    .dataframe thead th {\n",
       "        text-align: right;\n",
       "    }\n",
       "</style>\n",
       "<table border=\"1\" class=\"dataframe\">\n",
       "  <thead>\n",
       "    <tr style=\"text-align: right;\">\n",
       "      <th></th>\n",
       "      <th>label</th>\n",
       "    </tr>\n",
       "    <tr>\n",
       "      <th>id</th>\n",
       "      <th></th>\n",
       "    </tr>\n",
       "  </thead>\n",
       "  <tbody>\n",
       "    <tr>\n",
       "      <th>0</th>\n",
       "      <td>0</td>\n",
       "    </tr>\n",
       "    <tr>\n",
       "      <th>1</th>\n",
       "      <td>0</td>\n",
       "    </tr>\n",
       "    <tr>\n",
       "      <th>2</th>\n",
       "      <td>0</td>\n",
       "    </tr>\n",
       "    <tr>\n",
       "      <th>3</th>\n",
       "      <td>0</td>\n",
       "    </tr>\n",
       "    <tr>\n",
       "      <th>4</th>\n",
       "      <td>0</td>\n",
       "    </tr>\n",
       "  </tbody>\n",
       "</table>\n",
       "</div>"
      ],
      "text/plain": [
       "    label\n",
       "id       \n",
       "0       0\n",
       "1       0\n",
       "2       0\n",
       "3       0\n",
       "4       0"
      ]
     },
     "execution_count": 12,
     "metadata": {},
     "output_type": "execute_result"
    }
   ],
   "source": [
    "## Submission\n",
    "\n",
    "# Random Forest\n",
    "\n",
    "from sklearn.ensemble import RandomForestClassifier\n",
    "\n",
    "clf = RandomForestClassifier(max_depth=3, random_state=5001)\n",
    "clf.fit(X, y)\n",
    "\n",
    "preds = clf.predict(test)\n",
    "pred_prob_rf = clf.predict_proba(test)\n",
    "\n",
    "result = pd.read_csv(\"/kaggle/input/msbd5001-spring-2022/sample_submission.csv\", index_col=0)\n",
    "result['label'] = preds\n",
    "result.to_csv(\"submission_rf.csv\")\n",
    "result.head()"
   ]
  },
  {
   "cell_type": "code",
   "execution_count": 13,
   "id": "daf0bddd",
   "metadata": {
    "execution": {
     "iopub.execute_input": "2022-05-14T14:24:50.529680Z",
     "iopub.status.busy": "2022-05-14T14:24:50.528947Z",
     "iopub.status.idle": "2022-05-14T14:24:50.954999Z",
     "shell.execute_reply": "2022-05-14T14:24:50.955651Z",
     "shell.execute_reply.started": "2022-02-24T08:48:07.57802Z"
    },
    "papermill": {
     "duration": 0.461662,
     "end_time": "2022-05-14T14:24:50.955874",
     "exception": false,
     "start_time": "2022-05-14T14:24:50.494212",
     "status": "completed"
    },
    "tags": []
   },
   "outputs": [
    {
     "data": {
      "text/html": [
       "<div>\n",
       "<style scoped>\n",
       "    .dataframe tbody tr th:only-of-type {\n",
       "        vertical-align: middle;\n",
       "    }\n",
       "\n",
       "    .dataframe tbody tr th {\n",
       "        vertical-align: top;\n",
       "    }\n",
       "\n",
       "    .dataframe thead th {\n",
       "        text-align: right;\n",
       "    }\n",
       "</style>\n",
       "<table border=\"1\" class=\"dataframe\">\n",
       "  <thead>\n",
       "    <tr style=\"text-align: right;\">\n",
       "      <th></th>\n",
       "      <th>label</th>\n",
       "    </tr>\n",
       "    <tr>\n",
       "      <th>id</th>\n",
       "      <th></th>\n",
       "    </tr>\n",
       "  </thead>\n",
       "  <tbody>\n",
       "    <tr>\n",
       "      <th>0</th>\n",
       "      <td>0</td>\n",
       "    </tr>\n",
       "    <tr>\n",
       "      <th>1</th>\n",
       "      <td>0</td>\n",
       "    </tr>\n",
       "    <tr>\n",
       "      <th>2</th>\n",
       "      <td>0</td>\n",
       "    </tr>\n",
       "    <tr>\n",
       "      <th>3</th>\n",
       "      <td>0</td>\n",
       "    </tr>\n",
       "    <tr>\n",
       "      <th>4</th>\n",
       "      <td>0</td>\n",
       "    </tr>\n",
       "  </tbody>\n",
       "</table>\n",
       "</div>"
      ],
      "text/plain": [
       "    label\n",
       "id       \n",
       "0       0\n",
       "1       0\n",
       "2       0\n",
       "3       0\n",
       "4       0"
      ]
     },
     "execution_count": 13,
     "metadata": {},
     "output_type": "execute_result"
    }
   ],
   "source": [
    "## Submission\n",
    "\n",
    "# XGBoost\n",
    "\n",
    "xgb_cl = xgb.XGBClassifier(use_label_encoder=False, verbosity=0, random_state=5001, **params)\n",
    "\n",
    "# Fit\n",
    "xgb_cl.fit(X_processed, y)\n",
    "\n",
    "# Predict\n",
    "test_processed = full_processor.fit_transform(test)\n",
    "preds = xgb_cl.predict(test_processed)\n",
    "pred_prob_xgb = xgb_cl.predict_proba(test_processed)\n",
    "\n",
    "result = pd.read_csv(\"/kaggle/input/msbd5001-spring-2022/sample_submission.csv\", index_col=0)\n",
    "result['label'] = preds\n",
    "result.to_csv(\"submission_xgb.csv\")\n",
    "result.head()"
   ]
  },
  {
   "cell_type": "code",
   "execution_count": 14,
   "id": "0c105b4a",
   "metadata": {
    "execution": {
     "iopub.execute_input": "2022-05-14T14:24:51.023024Z",
     "iopub.status.busy": "2022-05-14T14:24:51.016937Z",
     "iopub.status.idle": "2022-05-14T14:24:51.092545Z",
     "shell.execute_reply": "2022-05-14T14:24:51.091768Z",
     "shell.execute_reply.started": "2022-02-24T08:48:07.975576Z"
    },
    "papermill": {
     "duration": 0.108282,
     "end_time": "2022-05-14T14:24:51.092702",
     "exception": false,
     "start_time": "2022-05-14T14:24:50.984420",
     "status": "completed"
    },
    "tags": []
   },
   "outputs": [
    {
     "data": {
      "text/html": [
       "<div>\n",
       "<style scoped>\n",
       "    .dataframe tbody tr th:only-of-type {\n",
       "        vertical-align: middle;\n",
       "    }\n",
       "\n",
       "    .dataframe tbody tr th {\n",
       "        vertical-align: top;\n",
       "    }\n",
       "\n",
       "    .dataframe thead th {\n",
       "        text-align: right;\n",
       "    }\n",
       "</style>\n",
       "<table border=\"1\" class=\"dataframe\">\n",
       "  <thead>\n",
       "    <tr style=\"text-align: right;\">\n",
       "      <th></th>\n",
       "      <th>label</th>\n",
       "    </tr>\n",
       "    <tr>\n",
       "      <th>id</th>\n",
       "      <th></th>\n",
       "    </tr>\n",
       "  </thead>\n",
       "  <tbody>\n",
       "    <tr>\n",
       "      <th>0</th>\n",
       "      <td>0</td>\n",
       "    </tr>\n",
       "    <tr>\n",
       "      <th>1</th>\n",
       "      <td>0</td>\n",
       "    </tr>\n",
       "    <tr>\n",
       "      <th>2</th>\n",
       "      <td>0</td>\n",
       "    </tr>\n",
       "    <tr>\n",
       "      <th>3</th>\n",
       "      <td>0</td>\n",
       "    </tr>\n",
       "    <tr>\n",
       "      <th>4</th>\n",
       "      <td>0</td>\n",
       "    </tr>\n",
       "  </tbody>\n",
       "</table>\n",
       "</div>"
      ],
      "text/plain": [
       "    label\n",
       "id       \n",
       "0       0\n",
       "1       0\n",
       "2       0\n",
       "3       0\n",
       "4       0"
      ]
     },
     "execution_count": 14,
     "metadata": {},
     "output_type": "execute_result"
    }
   ],
   "source": [
    "## Submission\n",
    "\n",
    "# CatBoost\n",
    "\n",
    "cb_clf = CatBoostClassifier(iterations=15,\n",
    "                            learning_rate=0.25,\n",
    "                            depth=5,\n",
    "                            verbose=0,\n",
    "                            random_seed=5001)\n",
    "    \n",
    "cb_clf.fit(X, y, cat_features)\n",
    "preds = cb_clf.predict(test)\n",
    "pred_prob_cb = cb_clf.predict_proba(test)\n",
    "\n",
    "result = pd.read_csv(\"/kaggle/input/msbd5001-spring-2022/sample_submission.csv\", index_col=0)\n",
    "result['label'] = preds\n",
    "result.to_csv(\"submission_cb.csv\")\n",
    "result.head()"
   ]
  },
  {
   "cell_type": "code",
   "execution_count": 15,
   "id": "b0ddf2b8",
   "metadata": {
    "execution": {
     "iopub.execute_input": "2022-05-14T14:24:51.155958Z",
     "iopub.status.busy": "2022-05-14T14:24:51.155133Z",
     "iopub.status.idle": "2022-05-14T14:24:51.166784Z",
     "shell.execute_reply": "2022-05-14T14:24:51.167319Z",
     "shell.execute_reply.started": "2022-02-24T08:48:08.034401Z"
    },
    "papermill": {
     "duration": 0.046824,
     "end_time": "2022-05-14T14:24:51.167529",
     "exception": false,
     "start_time": "2022-05-14T14:24:51.120705",
     "status": "completed"
    },
    "tags": []
   },
   "outputs": [
    {
     "data": {
      "text/html": [
       "<div>\n",
       "<style scoped>\n",
       "    .dataframe tbody tr th:only-of-type {\n",
       "        vertical-align: middle;\n",
       "    }\n",
       "\n",
       "    .dataframe tbody tr th {\n",
       "        vertical-align: top;\n",
       "    }\n",
       "\n",
       "    .dataframe thead th {\n",
       "        text-align: right;\n",
       "    }\n",
       "</style>\n",
       "<table border=\"1\" class=\"dataframe\">\n",
       "  <thead>\n",
       "    <tr style=\"text-align: right;\">\n",
       "      <th></th>\n",
       "      <th>label</th>\n",
       "    </tr>\n",
       "    <tr>\n",
       "      <th>id</th>\n",
       "      <th></th>\n",
       "    </tr>\n",
       "  </thead>\n",
       "  <tbody>\n",
       "    <tr>\n",
       "      <th>0</th>\n",
       "      <td>0</td>\n",
       "    </tr>\n",
       "    <tr>\n",
       "      <th>1</th>\n",
       "      <td>0</td>\n",
       "    </tr>\n",
       "    <tr>\n",
       "      <th>2</th>\n",
       "      <td>0</td>\n",
       "    </tr>\n",
       "    <tr>\n",
       "      <th>3</th>\n",
       "      <td>0</td>\n",
       "    </tr>\n",
       "    <tr>\n",
       "      <th>4</th>\n",
       "      <td>0</td>\n",
       "    </tr>\n",
       "  </tbody>\n",
       "</table>\n",
       "</div>"
      ],
      "text/plain": [
       "    label\n",
       "id       \n",
       "0       0\n",
       "1       0\n",
       "2       0\n",
       "3       0\n",
       "4       0"
      ]
     },
     "execution_count": 15,
     "metadata": {},
     "output_type": "execute_result"
    }
   ],
   "source": [
    "avg_pred_prob = (pred_prob_rf[:,1] + pred_prob_xgb[:,1] + pred_prob_cb[:,1])/3\n",
    "avg_preds = avg_pred_prob >= 0.5\n",
    "\n",
    "result = pd.read_csv(\"/kaggle/input/msbd5001-spring-2022/sample_submission.csv\", index_col=0)\n",
    "result['label'] = avg_preds\n",
    "result['label'] = result['label'].astype(int)\n",
    "result.to_csv(\"submission_avg.csv\")\n",
    "result.head()"
   ]
  },
  {
   "cell_type": "code",
   "execution_count": null,
   "id": "d2aa10ed",
   "metadata": {
    "papermill": {
     "duration": 0.028007,
     "end_time": "2022-05-14T14:24:51.225712",
     "exception": false,
     "start_time": "2022-05-14T14:24:51.197705",
     "status": "completed"
    },
    "tags": []
   },
   "outputs": [],
   "source": []
  },
  {
   "cell_type": "code",
   "execution_count": null,
   "id": "4ab4a2b2",
   "metadata": {
    "papermill": {
     "duration": 0.027157,
     "end_time": "2022-05-14T14:24:51.280706",
     "exception": false,
     "start_time": "2022-05-14T14:24:51.253549",
     "status": "completed"
    },
    "tags": []
   },
   "outputs": [],
   "source": []
  }
 ],
 "metadata": {
  "kernelspec": {
   "display_name": "Python 3",
   "language": "python",
   "name": "python3"
  },
  "language_info": {
   "codemirror_mode": {
    "name": "ipython",
    "version": 3
   },
   "file_extension": ".py",
   "mimetype": "text/x-python",
   "name": "python",
   "nbconvert_exporter": "python",
   "pygments_lexer": "ipython3",
   "version": "3.7.12"
  },
  "papermill": {
   "default_parameters": {},
   "duration": 20.260043,
   "end_time": "2022-05-14T14:24:52.121759",
   "environment_variables": {},
   "exception": null,
   "input_path": "__notebook__.ipynb",
   "output_path": "__notebook__.ipynb",
   "parameters": {},
   "start_time": "2022-05-14T14:24:31.861716",
   "version": "2.3.3"
  }
 },
 "nbformat": 4,
 "nbformat_minor": 5
}
